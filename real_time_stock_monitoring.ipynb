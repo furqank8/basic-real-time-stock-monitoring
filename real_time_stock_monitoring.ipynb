{
 "cells": [
  {
   "cell_type": "code",
   "execution_count": 465,
   "id": "5407953d",
   "metadata": {},
   "outputs": [],
   "source": [
    "from bs4 import BeautifulSoup\n",
    "import pandas as pd\n",
    "import requests"
   ]
  },
  {
   "cell_type": "code",
   "execution_count": 466,
   "id": "b8bb2131",
   "metadata": {},
   "outputs": [],
   "source": [
    "import time\n",
    "from datetime import datetime"
   ]
  },
  {
   "cell_type": "code",
   "execution_count": 467,
   "id": "b80ed994",
   "metadata": {},
   "outputs": [],
   "source": [
    "import matplotlib.pyplot as plt"
   ]
  },
  {
   "cell_type": "code",
   "execution_count": 468,
   "id": "d67c2597",
   "metadata": {},
   "outputs": [],
   "source": [
    "#import numpy as np"
   ]
  },
  {
   "cell_type": "code",
   "execution_count": 469,
   "id": "4bb7a403",
   "metadata": {},
   "outputs": [],
   "source": [
    "def rtsd():\n",
    "    source = requests.get('https://www.google.com/finance/quote/GRANULES:NSE').text\n",
    "    soup=BeautifulSoup(source,'lxml')\n",
    "    price=soup.find(class_='YMlKec fxKbKc').text\n",
    "    price=price.lstrip('₹')\n",
    "    price=float(price)\n",
    "    #price=int(price)\n",
    "    \n",
    "    #price1=price1.append(price)\n",
    "    #x=time.localtime(time.time())\n",
    "    now = datetime.now()\n",
    "    current_time = now.strftime(\"%H:%M:%S\")\n",
    "    \n",
    "    #time1=time1.append(current_time)\n",
    "    return(current_time,price)\n"
   ]
  },
  {
   "cell_type": "code",
   "execution_count": 470,
   "id": "f1afb23b",
   "metadata": {},
   "outputs": [],
   "source": [
    "#source = requests.get('https://www.google.com/finance/quote/IBULHSGFIN:NSE').text"
   ]
  },
  {
   "cell_type": "code",
   "execution_count": 471,
   "id": "a1325400",
   "metadata": {},
   "outputs": [],
   "source": [
    "from IPython.display import clear_output"
   ]
  },
  {
   "cell_type": "code",
   "execution_count": null,
   "id": "c09b221d",
   "metadata": {},
   "outputs": [],
   "source": []
  },
  {
   "cell_type": "code",
   "execution_count": 480,
   "id": "6e0efeff",
   "metadata": {},
   "outputs": [
    {
     "name": "stdout",
     "output_type": "stream",
     "text": [
      "['12:10:43', '12:10:48', '12:10:54', '12:10:59', '12:11:05', '12:11:11', '12:11:17'] [319.25, 319.25, 319.3, 319.3, 318.95, 318.95, 319.1]\n"
     ]
    },
    {
     "data": {
      "image/png": "[encoded data removed]",
      "text/plain": [
       "<Figure size 432x288 with 1 Axes>"
      ]
     },
     "metadata": {
      "needs_background": "light"
     },
     "output_type": "display_data"
    },
    {
     "name": "stdout",
     "output_type": "stream",
     "text": [
      "interrupted!\n"
     ]
    }
   ],
   "source": [
    "if __name__ == '__main__':\n",
    "    price1=[]\n",
    "    time1=[]\n",
    "  \n",
    "    try:\n",
    "        while True:\n",
    "            time2,price=rtsd()\n",
    "            price1.append(price)\n",
    "            time1.append(time2)\n",
    "            print(time1,price1)\n",
    "                #fig = plt.figure()\n",
    "            plt.plot(time1,price1)\n",
    "            plt.draw()\n",
    "            plt.pause(3)\n",
    "                #plt.clf()\n",
    "                #plt.show()\n",
    "            clear_output(wait=True)\n",
    "    except KeyboardInterrupt:\n",
    "        print('interrupted!')"
   ]
  },
  {
   "cell_type": "code",
   "execution_count": null,
   "id": "4293fb0b",
   "metadata": {},
   "outputs": [],
   "source": []
  }
 ],
 "metadata": {
  "kernelspec": {
   "display_name": "Python 3",
   "language": "python",
   "name": "python3"
  },
  "language_info": {
   "codemirror_mode": {
    "name": "ipython",
    "version": 3
   },
   "file_extension": ".py",
   "mimetype": "text/x-python",
   "name": "python",
   "nbconvert_exporter": "python",
   "pygments_lexer": "ipython3",
   "version": "3.8.3"
  }
 },
 "nbformat": 4,
 "nbformat_minor": 5
}
