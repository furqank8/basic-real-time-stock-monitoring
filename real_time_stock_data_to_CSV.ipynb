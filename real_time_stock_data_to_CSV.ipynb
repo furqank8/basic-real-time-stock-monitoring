{
 "cells": [
  {
   "cell_type": "code",
   "execution_count": 4,
   "id": "b6c68633",
   "metadata": {},
   "outputs": [],
   "source": [
    "from bs4 import BeautifulSoup\n",
    "import pandas as pd\n",
    "import requests\n",
    "import numpy as np"
   ]
  },
  {
   "cell_type": "code",
   "execution_count": 5,
   "id": "41900fd4",
   "metadata": {},
   "outputs": [],
   "source": [
    "import time\n",
    "from datetime import datetime"
   ]
  },
  {
   "cell_type": "code",
   "execution_count": 6,
   "id": "1fd330ba",
   "metadata": {},
   "outputs": [],
   "source": [
    "import matplotlib.pyplot as plt"
   ]
  },
  {
   "cell_type": "code",
   "execution_count": 7,
   "id": "ef7a89be",
   "metadata": {},
   "outputs": [],
   "source": [
    "def rtsd():\n",
    "    source = requests.get('https://www.google.com/finance/quote/GRANULES:NSE').text\n",
    "    soup=BeautifulSoup(source,'lxml')\n",
    "    price=soup.find(class_='YMlKec fxKbKc').text\n",
    "    price=price.lstrip('₹')\n",
    "    price=float(price)\n",
    "    #price=int(price)\n",
    "    \n",
    "    #price1=price1.append(price)\n",
    "    #x=time.localtime(time.time())\n",
    "    now = datetime.now()\n",
    "    current_time = now.strftime(\"%H:%M:%S\")\n",
    "    \n",
    "    #time1=time1.append(current_time)\n",
    "    return(current_time,price)"
   ]
  },
  {
   "cell_type": "code",
   "execution_count": 10,
   "id": "63940196",
   "metadata": {},
   "outputs": [
    {
     "name": "stdout",
     "output_type": "stream",
     "text": [
      "interrupted!\n"
     ]
    }
   ],
   "source": [
    "if __name__ == '__main__':\n",
    "    price1=[]\n",
    "    time1=[]\n",
    "    try:\n",
    "        while True:\n",
    "            time2,price=rtsd()\n",
    "            price1.append(price)\n",
    "            time1.append(time2)\n",
    "                #print(time1,price1)\n",
    "                    #fig = plt.figure()\n",
    "            #print(type(price1))\n",
    "            #time1=np.array(time1)\n",
    "            #price1=np.array(price1)\n",
    "            #time1.reshape(1,-1)\n",
    "            #price1.reshape(1,-1)\n",
    "            dx=pd.DataFrame()\n",
    "            dx['time1']=time1\n",
    "            dx['price1']=price1\n",
    "            #output=pd.concat([time1,price1],axis=1)\n",
    "            dx.to_csv('output.csv',index=False)\n",
    "            time.sleep(5)\n",
    "                    #plt.clf()\n",
    "                    #plt.show()\n",
    "            #clear_output(wait=True)\n",
    "    except KeyboardInterrupt:\n",
    "        print('interrupted!')\n"
   ]
  },
  {
   "cell_type": "code",
   "execution_count": null,
   "id": "a149f1a1",
   "metadata": {},
   "outputs": [],
   "source": []
  }
 ],
 "metadata": {
  "kernelspec": {
   "display_name": "Python 3",
   "language": "python",
   "name": "python3"
  },
  "language_info": {
   "codemirror_mode": {
    "name": "ipython",
    "version": 3
   },
   "file_extension": ".py",
   "mimetype": "text/x-python",
   "name": "python",
   "nbconvert_exporter": "python",
   "pygments_lexer": "ipython3",
   "version": "3.8.3"
  }
 },
 "nbformat": 4,
 "nbformat_minor": 5
}
