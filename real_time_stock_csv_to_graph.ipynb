{
 "cells": [
  {
   "cell_type": "code",
   "execution_count": 1,
   "id": "09659ac0",
   "metadata": {},
   "outputs": [],
   "source": [
    "import matplotlib.pyplot as plt\n",
    "import matplotlib.animation as graph\n",
    "import time"
   ]
  },
  {
   "cell_type": "code",
   "execution_count": 2,
   "id": "ab99ecb4",
   "metadata": {},
   "outputs": [],
   "source": [
    "plt.style.use('fivethirtyeight')"
   ]
  },
  {
   "cell_type": "code",
   "execution_count": 3,
   "id": "a2b94757",
   "metadata": {},
   "outputs": [],
   "source": [
    "import csv"
   ]
  },
  {
   "cell_type": "code",
   "execution_count": 4,
   "id": "1ac6e79f",
   "metadata": {},
   "outputs": [],
   "source": [
    "# from matplotlib.pyplot import figure\n",
    "\n",
    "# figure(figsize=(8, 6), dpi=80)"
   ]
  },
  {
   "cell_type": "code",
   "execution_count": 5,
   "id": "d4483e7e",
   "metadata": {},
   "outputs": [],
   "source": [
    "#import plotly.graph_objs as go"
   ]
  },
  {
   "cell_type": "code",
   "execution_count": null,
   "id": "bf9806d9",
   "metadata": {},
   "outputs": [],
   "source": []
  },
  {
   "cell_type": "code",
   "execution_count": 6,
   "id": "e0e1b162",
   "metadata": {},
   "outputs": [],
   "source": [
    "#fig = go.Figure()"
   ]
  },
  {
   "cell_type": "code",
   "execution_count": null,
   "id": "ad652a61",
   "metadata": {},
   "outputs": [],
   "source": []
  },
  {
   "cell_type": "code",
   "execution_count": 7,
   "id": "00e27a01",
   "metadata": {},
   "outputs": [],
   "source": [
    "from IPython.display import clear_output"
   ]
  },
  {
   "cell_type": "code",
   "execution_count": 12,
   "id": "5c66211d",
   "metadata": {
    "scrolled": true
   },
   "outputs": [
    {
     "data": {
      "image/png": "[encoded data removed]",
      "text/plain": [
       "<Figure size 432x288 with 1 Axes>"
      ]
     },
     "metadata": {},
     "output_type": "display_data"
    },
    {
     "name": "stdout",
     "output_type": "stream",
     "text": [
      "interrupted!\n"
     ]
    }
   ],
   "source": [
    "try:\n",
    "    while True:\n",
    "        x_array=[]\n",
    "        y_array=[]\n",
    "        with open('output.csv','r') as csvfile:\n",
    "            csvFileReader=csv.reader(csvfile)\n",
    "            next(csvFileReader)\n",
    "            for row in csvFileReader:\n",
    "                if (len(row)>1):\n",
    "                    x_array.append(row[0])\n",
    "                    y_array.append(row[1])\n",
    "\n",
    "                plt.plot(x_array[-5:],y_array[-5:])\n",
    "                plt.draw()\n",
    "                plt.pause(3)\n",
    "                clear_output(wait=True)\n",
    "        #plt.show()\n",
    "except KeyboardInterrupt:\n",
    "        print('interrupted!')"
   ]
  },
  {
   "cell_type": "code",
   "execution_count": 9,
   "id": "04951a33",
   "metadata": {
    "scrolled": true
   },
   "outputs": [
    {
     "data": {
      "text/plain": [
       "\"x_array=[]\\ny_array=[]\\nwith open('output.csv','r') as csvfile:\\n    csvFileReader=csv.reader(csvfile)\\n    next(csvFileReader)\\n    for row in csvFileReader:\\n        if (len(row)>1):\\n            x_array.append(row[0])\\n            y_array.append(row[1])\\n        fig.add_trace(go.Scatter(x=x_array, y= y_array,line=dict(color='blue', width=.7)))\\n            #fig.add_trace(go.Candlestick(x=x_array))\\n                #plt.plot(x_array[-5:],y_array[-5:])\\n\\n        yaxis = dict(\\n         fixedrange = False\\n    )\\n        \\n        fig.show()\\n                #plt.draw()\\n        plt.pause(5)\\n        clear_output(wait=True)\""
      ]
     },
     "execution_count": 9,
     "metadata": {},
     "output_type": "execute_result"
    }
   ],
   "source": [
    "\n",
    "'''x_array=[]\n",
    "y_array=[]\n",
    "with open('output.csv','r') as csvfile:\n",
    "    csvFileReader=csv.reader(csvfile)\n",
    "    next(csvFileReader)\n",
    "    for row in csvFileReader:\n",
    "        if (len(row)>1):\n",
    "            x_array.append(row[0])\n",
    "            y_array.append(row[1])\n",
    "        fig.add_trace(go.Scatter(x=x_array, y= y_array,line=dict(color='blue', width=.7)))\n",
    "            #fig.add_trace(go.Candlestick(x=x_array))\n",
    "                #plt.plot(x_array[-5:],y_array[-5:])\n",
    "\n",
    "        yaxis = dict(\n",
    "         fixedrange = False\n",
    "    )\n",
    "        \n",
    "        fig.show()\n",
    "                #plt.draw()\n",
    "        plt.pause(5)\n",
    "        clear_output(wait=True)'''"
   ]
  },
  {
   "cell_type": "code",
   "execution_count": 10,
   "id": "b239fb76",
   "metadata": {},
   "outputs": [],
   "source": [
    "#%matplotlib notebook"
   ]
  },
  {
   "cell_type": "code",
   "execution_count": 11,
   "id": "4351ebd5",
   "metadata": {},
   "outputs": [
    {
     "data": {
      "text/plain": [
       "\"import random\\nfrom itertools import count\\nimport pandas as pd\\nimport matplotlib.pyplot as plt\\nfrom matplotlib.animation import FuncAnimation\\n\\nplt.style.use('fivethirtyeight')\\n\\nx_vals = []\\ny_vals = []\\n\\nindex = count()\\n\\n\\ndef animate(i):\\n    data = pd.read_csv('output.csv')\\n    x = data['time1']\\n    y1 = data['price1']\\n    #y2 = data['total_2']\\n\\n    plt.cla()\\n\\n    plt.plot(x, y1, label='Channel 1')\\n    #plt.plot(x, y1, label='Channel 2')\\n\\n    plt.legend(loc='upper left')\\n    plt.tight_layout()\\n\\n\\nani = FuncAnimation(plt.gcf(), animate, interval=1000)\\n\\nplt.tight_layout()\\nplt.show()\""
      ]
     },
     "execution_count": 11,
     "metadata": {},
     "output_type": "execute_result"
    }
   ],
   "source": [
    "'''import random\n",
    "from itertools import count\n",
    "import pandas as pd\n",
    "import matplotlib.pyplot as plt\n",
    "from matplotlib.animation import FuncAnimation\n",
    "\n",
    "plt.style.use('fivethirtyeight')\n",
    "\n",
    "x_vals = []\n",
    "y_vals = []\n",
    "\n",
    "index = count()\n",
    "\n",
    "\n",
    "def animate(i):\n",
    "    data = pd.read_csv('output.csv')\n",
    "    x = data['time1']\n",
    "    y1 = data['price1']\n",
    "    #y2 = data['total_2']\n",
    "\n",
    "    plt.cla()\n",
    "\n",
    "    plt.plot(x, y1, label='Channel 1')\n",
    "    #plt.plot(x, y1, label='Channel 2')\n",
    "\n",
    "    plt.legend(loc='upper left')\n",
    "    plt.tight_layout()\n",
    "\n",
    "\n",
    "ani = FuncAnimation(plt.gcf(), animate, interval=1000)\n",
    "\n",
    "plt.tight_layout()\n",
    "plt.show()'''"
   ]
  },
  {
   "cell_type": "code",
   "execution_count": null,
   "id": "3e0b0d1a",
   "metadata": {},
   "outputs": [],
   "source": []
  }
 ],
 "metadata": {
  "kernelspec": {
   "display_name": "Python 3",
   "language": "python",
   "name": "python3"
  },
  "language_info": {
   "codemirror_mode": {
    "name": "ipython",
    "version": 3
   },
   "file_extension": ".py",
   "mimetype": "text/x-python",
   "name": "python",
   "nbconvert_exporter": "python",
   "pygments_lexer": "ipython3",
   "version": "3.8.3"
  }
 },
 "nbformat": 4,
 "nbformat_minor": 5
}
